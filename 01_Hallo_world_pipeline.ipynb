{
 "cells": [
  {
   "cell_type": "markdown",
   "id": "fe101358-4cf5-4c5d-bee9-e33c6ea28c8d",
   "metadata": {},
   "source": [
    "# Transformers: Hallo world!\n",
    "\n",
    "Codebeispiel von https://huggingface.co/docs/transformers/main_classes/pipelines."
   ]
  },
  {
   "cell_type": "code",
   "execution_count": null,
   "id": "33d77422-e0a3-4fd1-a2ae-f8e794ee14a8",
   "metadata": {},
   "outputs": [],
   "source": [
    "from transformers import pipeline\n",
    "from tqdm.auto import tqdm\n",
    "from PIL import Image\n",
    "import requests"
   ]
  },
  {
   "cell_type": "markdown",
   "id": "9f1ad46a-bb8e-4482-9d4f-dfb2d68f0a90",
   "metadata": {},
   "source": [
    "# Modelle"
   ]
  },
  {
   "cell_type": "code",
   "execution_count": null,
   "id": "4dd05b05-24fa-4b72-adb9-9b7e47efaeac",
   "metadata": {},
   "outputs": [],
   "source": [
    "model = \"ydshieh/vit-gpt2-coco-en\"\n",
    "#model = \"nlpconnect/vit-gpt2-image-captioning\""
   ]
  },
  {
   "cell_type": "markdown",
   "id": "9dd51749-3dce-4359-8272-6c49a6bb93d2",
   "metadata": {},
   "source": [
    "## Bilder\n",
    "Sammlung \"Kurt Schwarz Fotografie - Umbau Stadtzentrum\" (https://nat.museum-digital.de/collection/8213)"
   ]
  },
  {
   "cell_type": "code",
   "execution_count": null,
   "id": "0ba773e0-dbce-466d-802f-992fc23c8d91",
   "metadata": {},
   "outputs": [],
   "source": [
    "bilder = [\n",
    "    \"https://asset.museum-digital.org/berlin/images/29/112684-ks-6-bz_1046-2/stadtrundfahrt_im_bus_196/stadtrundfahrt-im-bus-1968-bild-2-sw-foto-kurt-schwarz-112684-327913.jpg\",\n",
    "    \"https://asset.museum-digital.org/berlin/images/29/202205/110262/baustelle-auf-der-fischerinsel-in-berlin-mitte-farbfoto-anfang-1970er-jahre-kurt-schwarz-1.jpg\",\n",
    "    \"https://asset.museum-digital.org/berlin/images/29/202203/109511/friedrich-ebert-jun-1948-1967-oberbuergermeister-von-ostberlin-auf-einer-baustelle-1968-sw.jpg\",\n",
    "    \"https://asset.museum-digital.org/berlin/images/29/202203/109477/herbert-fechner-oberbuergermeister-von-ostberlin-bei-freigabe-eines-gelaendes-1968-sw-foto.jpg\",\n",
    "    \"https://asset.museum-digital.org/berlin/images/29/202202/103943/eine-schulklasse-auf-dem-turm-des-roten-rathauses-1965-sw-foto-kurt-schwarz-103943.jpg\",\n",
    "    \"https://asset.museum-digital.org/berlin/images/29/202202/103941/blick-auf-die-groSsbaustelle-um-den-fernsehturm-herum-april-1969-sw-foto-kurt-schwarz-1039.jpg\",\n",
    "    \"https://asset.museum-digital.org/berlin/images/29/202202/103926/abriss-des-friedrichstadtpalastes-an-seinem-alten-standort-am-spreeufer-neben-dem-berliner.jpg\",\n",
    "    \"https://asset.museum-digital.org/berlin/images/29/202202/103919/berliner-krahnfuehrer-1985-originaltitel-des-fotografen-sw-foto-1985-kurt-schwarz-103919.jpg\",\n",
    "    \"https://asset.museum-digital.org/berlin/images/29/202202/103822/alex-hinterhofluecke-1968-originaltitel-des-fotografen-sw-foto-1968-kurt-schwarz-103822.jpg\",\n",
    "    \"https://asset.museum-digital.org/berlin/images/29/202202/103743/bauarbeiten-an-der-alten-bibliothek-mitte-1960er-jahre-sw-foto-kurt-schwarz-103743.jpg\",\n",
    "    \"https://asset.museum-digital.org/berlin/images/29/202202/103604/kellnerin-und-gaeste-im-cafe-auf-dem-berliner-fernsehturm-februar-1970-sw-foto-kurt-schwar.jpg\",\n",
    "    \"https://asset.museum-digital.org/berlin/images/29/103603-ks-7-bz_0555/blick_von_der_dircksenstr/blick-von-der-dircksenstraSse-richtung-alexanderstraSse-anfang-1960er-jahre-sw-foto-kurt-s-395722.jpg\",\n",
    "    \"https://asset.museum-digital.org/berlin/images/29/202202/103577/ein-kunststudent-beim-zeichnen-auf-der-baustelle-am-alexanderplatz-august-1967-sw-foto-kur.jpg\",\n",
    "    \"https://asset.museum-digital.org/berlin/images/29/202202/103566/zwei-kunststudentinnen-auf-der-baustelle-am-alexanderplatz-august-1967-sw-foto-kurt-schwar.jpg\",\n",
    "    \"https://asset.museum-digital.org/berlin/images/29/202202/103543/tiefbaubrigade-bei-aufbringung-des-straSsenbelags-im-umgestalteten-stadtzentrum-1969-sw-fo.jpg\",\n",
    "    \"https://asset.museum-digital.org/berlin/images/29/202202/103532/neubau-der-s-bahnbruecke-ueber-die-karl-liebknecht-straSse-mai-1969-sw-foto-kurt-schwarz-1.jpg\",\n",
    "    \"https://asset.museum-digital.org/berlin/images/29/202202/103521/blick-auf-baugelaende-an-der-karl-liebknecht-straSse-1968-sw-foto-kurt-schwarz-103521.jpg\",\n",
    "    \"https://asset.museum-digital.org/berlin/images/29/202202/103510/hochbauarbeiten-am-hotel-stadt-berlin-april-1969-sw-foto-kurt-schwarz-103510.jpg\",\n",
    "    \"https://asset.museum-digital.org/berlin/images/29/202202/103477/tiefbauarbeiten-im-ostberliner-stadtzentrum-1967-sw-foto-kurt-schwarz-103477.jpg\",\n",
    "    \"https://asset.museum-digital.org/berlin/images/29/202108/98459/grundsteinlegung-fuer-schule-im-heinrich-heine-viertel-1959-sw-foto-kurt-schwarz-98459.jpg\",\n",
    "    \"https://asset.museum-digital.org/berlin/images/29/202107/96960/spielende-kinder-auf-dach-der-rathauspassagen-1970er-jahre-sw-foto-kurt-schwarz-96960.jpg\",\n",
    "    \"https://asset.museum-digital.org/berlin/images/29/202107/96950/arbeiter-in-den-kaskaden-vor-dem-berliner-fernsehturm-1973-sw-foto-kurt-schwarz-96950.jpg\",\n",
    "    \"https://asset.museum-digital.org/berlin/images/29/202107/96934/richtfest-zur-letzten-instanz-1972-sw-foto-kurt-schwarz-96934.jpg\",\n",
    "    \"https://asset.museum-digital.org/berlin/images/29/202107/96909/bauarbeiter-auf-hochhaus-baustelle-fischerinsel-berlin-mitte-1969-sw-foto-kurt-schwarz-969.jpg\",\n",
    "    \"https://asset.museum-digital.org/berlin/images/29/202107/96844/abriss-der-alten-zentral-markthalle-am-alexanderplatz-1968-sw-foto-kurt-schwarz-96844.jpg\",\n",
    "    \"https://asset.museum-digital.org/berlin/images/29/202107/96833/baustelle-am-fuSs-der-berliner-fernsehturms-1968-sw-foto-kurt-schwarz-96833.jpg\",\n",
    "    \"https://asset.museum-digital.org/berlin/images/29/202107/96822/abriss-des-ho-warenhauses-rathausstr-berlin-mitte-1968-sw-foto-kurt-schwarz-96822.jpg\"\n",
    "]"
   ]
  },
  {
   "cell_type": "code",
   "execution_count": null,
   "id": "52c265cf-2826-4de7-ac3d-76ca59a06940",
   "metadata": {},
   "outputs": [],
   "source": [
    "bspBild = bilder[0]\n",
    "img = Image.open(requests.get(bspBild, stream=True).raw)\n",
    "display(img)"
   ]
  },
  {
   "cell_type": "markdown",
   "id": "1a00fe4a-b5fe-4f0b-bc68-ee5bd30bdf70",
   "metadata": {},
   "source": [
    "## CPU"
   ]
  },
  {
   "cell_type": "code",
   "execution_count": null,
   "id": "e935ab52-7133-46ab-bf27-3ad359862b3c",
   "metadata": {},
   "outputs": [],
   "source": [
    "captioner = pipeline(model = model, device = \"cpu\")"
   ]
  },
  {
   "cell_type": "code",
   "execution_count": null,
   "id": "139e930b-8f69-4a47-a480-cd43ddfd1e3f",
   "metadata": {},
   "outputs": [],
   "source": [
    "%timeit print(captioner(bilder[0]))"
   ]
  },
  {
   "cell_type": "markdown",
   "id": "8b975eef-d926-431f-89bf-902bc266cf0c",
   "metadata": {},
   "source": [
    "## GPU"
   ]
  },
  {
   "cell_type": "code",
   "execution_count": null,
   "id": "aa27c9db-ea4f-41fd-b32b-f0e63aac8dff",
   "metadata": {},
   "outputs": [],
   "source": [
    "device = \"cuda:0\""
   ]
  },
  {
   "cell_type": "code",
   "execution_count": null,
   "id": "9a089306-d6bf-4476-b74a-2fee3932f1d2",
   "metadata": {},
   "outputs": [],
   "source": [
    "captioner = pipeline(\"image-to-text\", model = model, device = device)"
   ]
  },
  {
   "cell_type": "code",
   "execution_count": null,
   "id": "b0d51f72-1d79-403a-9605-bf02e3db4957",
   "metadata": {},
   "outputs": [],
   "source": [
    "%timeit print(captioner(bilder[0]))"
   ]
  },
  {
   "cell_type": "code",
   "execution_count": null,
   "id": "6cbfdfe6-b49a-4171-b1b4-8599c0594cb0",
   "metadata": {},
   "outputs": [],
   "source": []
  }
 ],
 "metadata": {
  "kernelspec": {
   "display_name": "test4",
   "language": "python",
   "name": "test4"
  },
  "language_info": {
   "codemirror_mode": {
    "name": "ipython",
    "version": 3
   },
   "file_extension": ".py",
   "mimetype": "text/x-python",
   "name": "python",
   "nbconvert_exporter": "python",
   "pygments_lexer": "ipython3",
   "version": "3.11.9"
  }
 },
 "nbformat": 4,
 "nbformat_minor": 5
}
