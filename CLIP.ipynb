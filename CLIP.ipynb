{
 "cells": [
  {
   "cell_type": "code",
   "execution_count": null,
   "id": "9fb48211-0423-4f29-a130-5c291031c298",
   "metadata": {},
   "outputs": [],
   "source": [
    "from helpers import randomImageUrl"
   ]
  },
  {
   "cell_type": "code",
   "execution_count": null,
   "id": "a5dacbe9-f7b6-4a6d-8787-6870c6c8fb0a",
   "metadata": {},
   "outputs": [],
   "source": [
    "randomImageUrl()"
   ]
  },
  {
   "cell_type": "code",
   "execution_count": null,
   "id": "48e1d5d6-d252-456e-8ac3-0f5eb676b999",
   "metadata": {},
   "outputs": [],
   "source": [
    "https://asset.museum-digital.org/berlinresources/images/201708/http://fhxb-museum.de/xmap/media/k__nstlerkreis_kreuzberger_boheme/sammlung_artur_m__rchen/image/fhxb_kkb_fa_gs0261_1500px.jpg"
   ]
  },
  {
   "cell_type": "code",
   "execution_count": null,
   "id": "5ed5b72b-405d-44c8-b3f3-de8c9379e017",
   "metadata": {},
   "outputs": [],
   "source": []
  }
 ],
 "metadata": {
  "kernelspec": {
   "display_name": "ki_spielwiese",
   "language": "python",
   "name": "ki_spielwiese"
  },
  "language_info": {
   "codemirror_mode": {
    "name": "ipython",
    "version": 3
   },
   "file_extension": ".py",
   "mimetype": "text/x-python",
   "name": "python",
   "nbconvert_exporter": "python",
   "pygments_lexer": "ipython3",
   "version": "3.11.7"
  }
 },
 "nbformat": 4,
 "nbformat_minor": 5
}
