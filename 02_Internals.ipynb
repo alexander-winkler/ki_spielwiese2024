{
 "cells": [
  {
   "cell_type": "code",
   "execution_count": null,
   "id": "4efde554-438f-422b-9b9e-69e40bdf8fc0",
   "metadata": {},
   "outputs": [],
   "source": [
    "# Check Setup: Wo bin ich?\n",
    "import sys\n",
    "sys.executable"
   ]
  },
  {
   "cell_type": "markdown",
   "id": "fd1bb6e2-1c5c-4514-a25d-c7061cea3cf5",
   "metadata": {},
   "source": [
    "# Internals: Ein Blick unter die Motorhaube"
   ]
  },
  {
   "cell_type": "code",
   "execution_count": null,
   "id": "f5564450-d83f-4308-8b10-155b8aaa5e56",
   "metadata": {},
   "outputs": [],
   "source": [
    "# Load model directly\n",
    "from transformers import AutoProcessor, AutoModelForZeroShotImageClassification\n",
    "\n",
    "processor = AutoProcessor.from_pretrained(\"openai/clip-vit-base-patch32\")\n",
    "model = AutoModelForZeroShotImageClassification.from_pretrained(\"openai/clip-vit-base-patch32\")"
   ]
  },
  {
   "cell_type": "markdown",
   "id": "45741eb9-e0db-4732-bb6d-0283a2a89381",
   "metadata": {},
   "source": [
    "## Tokenizer"
   ]
  },
  {
   "cell_type": "code",
   "execution_count": null,
   "id": "87e2c613-62d9-4526-97e5-832671658a44",
   "metadata": {},
   "outputs": [],
   "source": [
    "processor.tokenizer"
   ]
  },
  {
   "cell_type": "markdown",
   "id": "b813fdf8-a368-42ec-834b-6a723d64e98f",
   "metadata": {},
   "source": [
    "### Tokens"
   ]
  },
  {
   "cell_type": "code",
   "execution_count": null,
   "id": "e9aa1e82-aad7-427e-b790-cce3e5a7dc02",
   "metadata": {},
   "outputs": [],
   "source": [
    "text = \"How are you doin'?\""
   ]
  },
  {
   "cell_type": "code",
   "execution_count": null,
   "id": "5dfca023-fb8f-424c-8e60-da359b7d598a",
   "metadata": {},
   "outputs": [],
   "source": [
    "processor.tokenizer(text)"
   ]
  },
  {
   "cell_type": "code",
   "execution_count": null,
   "id": "041b3378-f963-499c-b72c-bf4989466295",
   "metadata": {},
   "outputs": [],
   "source": [
    "for ID in processor.tokenizer(text).input_ids:\n",
    "    token = processor.tokenizer.convert_ids_to_tokens(ID)\n",
    "    print(ID, \"\\t\", token)"
   ]
  },
  {
   "cell_type": "markdown",
   "id": "b5a950c0-54ce-47cc-acc4-1bda2251115c",
   "metadata": {},
   "source": [
    "### Vokabular"
   ]
  },
  {
   "cell_type": "code",
   "execution_count": null,
   "id": "e832736d-d81f-4562-8efb-44d4a019addb",
   "metadata": {},
   "outputs": [],
   "source": [
    "processor.tokenizer.vocab"
   ]
  },
  {
   "cell_type": "markdown",
   "id": "12b7cf12-5ac4-4ada-889f-52247f88fe82",
   "metadata": {},
   "source": [
    "## Bildprozessor"
   ]
  },
  {
   "cell_type": "code",
   "execution_count": null,
   "id": "1a2253bf-b8af-4b05-85e5-8b5babcd715d",
   "metadata": {},
   "outputs": [],
   "source": [
    "processor.image_processor"
   ]
  },
  {
   "cell_type": "code",
   "execution_count": null,
   "id": "78d80f24-b0e3-4054-8cd5-cd3c3e5a2b4b",
   "metadata": {},
   "outputs": [],
   "source": [
    "from PIL import Image\n",
    "import requests\n",
    "\n",
    "url = \"https://asset.museum-digital.org/berlin/images/29/202202/103410/auf-der-terrasse-der-milch-mokka-eis-bar-in-der-karl-marx-allee-april-1967-sw-foto-kurt-sc.jpg\"\n",
    "\n",
    "img = Image.open(requests.get(url, stream=True).raw)"
   ]
  },
  {
   "cell_type": "code",
   "execution_count": null,
   "id": "ce2b6822-ba03-45aa-986a-f95deb0dabed",
   "metadata": {},
   "outputs": [],
   "source": [
    "img"
   ]
  },
  {
   "cell_type": "code",
   "execution_count": null,
   "id": "f89f4edb-5a4f-4ab5-a5ba-ac95467c63f4",
   "metadata": {},
   "outputs": [],
   "source": [
    "import numpy as np\n",
    "np.array(img).shape"
   ]
  },
  {
   "cell_type": "code",
   "execution_count": null,
   "id": "9714f49f-9119-4136-ba1e-85146aa95da0",
   "metadata": {},
   "outputs": [],
   "source": [
    "processor.image_processor(img)"
   ]
  },
  {
   "cell_type": "code",
   "execution_count": null,
   "id": "95526347-4853-4a2e-8429-c047b595af57",
   "metadata": {},
   "outputs": [],
   "source": [
    "processor.image_processor(img).pixel_values[0].shape"
   ]
  },
  {
   "cell_type": "code",
   "execution_count": null,
   "id": "e9d3863c-6a79-43b5-8943-2ce5b0de7c3c",
   "metadata": {},
   "outputs": [],
   "source": [
    "from matplotlib import pyplot as plt\n",
    "processedImg = processor.image_processor(img).pixel_values[0]\n",
    "print(processedImg.shape)\n",
    "processedImg = processedImg.transpose((1,2,0)) \n",
    "print(processedImg.shape)\n",
    "plt.imshow(processedImg)"
   ]
  },
  {
   "cell_type": "markdown",
   "id": "95e51da5-2374-4c71-8c72-58499a79c5c5",
   "metadata": {},
   "source": [
    "## Modelle"
   ]
  },
  {
   "cell_type": "code",
   "execution_count": null,
   "id": "84d37546-3096-4092-a199-9d34c368f5a6",
   "metadata": {},
   "outputs": [],
   "source": [
    "model"
   ]
  },
  {
   "cell_type": "code",
   "execution_count": null,
   "id": "7d5ba2cc-424b-4d66-8dbe-a2de5868866f",
   "metadata": {},
   "outputs": [],
   "source": [
    "image_inputs = processor(images=img, return_tensors=\"pt\")\n",
    "image_features = model.get_image_features(**image_inputs)"
   ]
  },
  {
   "cell_type": "code",
   "execution_count": null,
   "id": "01c54895-fa0f-4d3e-999c-977419bd4500",
   "metadata": {},
   "outputs": [],
   "source": [
    "# Process the text separately\n",
    "text_inputs = processor(text=[\"a photo of people sitting in a café\", \"a photo of a university\"], return_tensors=\"pt\", padding=True)\n",
    "text_features = model.get_text_features(**text_inputs)"
   ]
  },
  {
   "cell_type": "code",
   "execution_count": null,
   "id": "79db33f1-5946-4879-90ed-e458125036ea",
   "metadata": {},
   "outputs": [],
   "source": [
    "image_inputs"
   ]
  },
  {
   "cell_type": "code",
   "execution_count": null,
   "id": "6775c7b3-dab0-46b9-a729-0287c85b2420",
   "metadata": {},
   "outputs": [],
   "source": [
    "# Compute cosine similarity between image and text features\n",
    "similarity = torch.matmul(text_features, image_features.T)\n",
    "print(\"Similarity:\", similarity)"
   ]
  }
 ],
 "metadata": {
  "kernelspec": {
   "display_name": "Spielwiese_Kernel",
   "language": "python",
   "name": "spielwiese_kernel"
  },
  "language_info": {
   "codemirror_mode": {
    "name": "ipython",
    "version": 3
   },
   "file_extension": ".py",
   "mimetype": "text/x-python",
   "name": "python",
   "nbconvert_exporter": "python",
   "pygments_lexer": "ipython3",
   "version": "3.11.9"
  }
 },
 "nbformat": 4,
 "nbformat_minor": 5
}
